{
 "cells": [
  {
   "cell_type": "markdown",
   "metadata": {},
   "source": [
    "## Data Science Scraper"
   ]
  },
  {
   "cell_type": "markdown",
   "metadata": {},
   "source": [
    "Dieses Notebook war einzig dafür vorgesehen, die Covid-Fallzahlen der deutschen Bundesländer von einer Wikipedia Seite zu scrapen."
   ]
  },
  {
   "cell_type": "code",
   "execution_count": 1,
   "metadata": {},
   "outputs": [],
   "source": [
    "import scrapy\n",
    "from scrapy.crawler import CrawlerProcess\n",
    "import warnings\n",
    "\n",
    "warnings.filterwarnings('ignore')"
   ]
  },
  {
   "cell_type": "code",
   "execution_count": 2,
   "metadata": {},
   "outputs": [
    {
     "name": "stderr",
     "output_type": "stream",
     "text": [
      "2021-03-25 12:59:03 [scrapy.utils.log] INFO: Scrapy 2.1.0 started (bot: scrapybot)\n",
      "2021-03-25 12:59:03 [scrapy.utils.log] INFO: Versions: lxml 4.5.0.0, libxml2 2.9.9, cssselect 1.1.0, parsel 1.6.0, w3lib 1.21.0, Twisted 20.3.0, Python 3.7.6 (default, Jan  8 2020, 20:23:39) [MSC v.1916 64 bit (AMD64)], pyOpenSSL 19.1.0 (OpenSSL 1.1.1d  10 Sep 2019), cryptography 2.8, Platform Windows-10-10.0.19041-SP0\n",
      "2021-03-25 12:59:03 [scrapy.utils.log] DEBUG: Using reactor: twisted.internet.selectreactor.SelectReactor\n"
     ]
    }
   ],
   "source": [
    "import logging\n",
    "\n",
    "class GERdailyZuwachs(scrapy.Spider):\n",
    "    name = 'corona_gerdaily'\n",
    "    start_urls = ['https://de.wikipedia.org/wiki/COVID-19-Pandemie_in_Deutschland/Statistik']\n",
    "\n",
    "    def parse(self, response):\n",
    "        for bundesland in response.css('table.wikitable > tbody > tr'):    #.zebra.toptextcells.mw-collapsible.mw-made-collapsible\n",
    "\n",
    "                yield{\n",
    "                    \n",
    "                  'BW' : bundesland.xpath('td[2]//text()').extract_first(),\n",
    "                  'BY' : bundesland.xpath('td[3]//text()').extract_first(),\n",
    "                  'BE' : bundesland.xpath('td[4]//text()').extract_first(),\n",
    "                  'BB' : bundesland.xpath('td[5]//text()').extract_first(),\n",
    "                  'HB' : bundesland.xpath('td[6]//text()').extract_first(),\n",
    "                  'HH' : bundesland.xpath('td[7]//text()').extract_first(),\n",
    "                  'HE' : bundesland.xpath('td[8]//text()').extract_first(),\n",
    "                  'MV' : bundesland.xpath('td[9]//text()').extract_first(),\n",
    "                  'NI' : bundesland.xpath('td[10]//text()').extract_first(),\n",
    "                  'NW' : bundesland.xpath('td[11]//text()').extract_first(),\n",
    "                  'RP' : bundesland.xpath('td[12]//text()').extract_first(),\n",
    "                  'SL' : bundesland.xpath('td[13]//text()').extract_first(),\n",
    "                  'SN' : bundesland.xpath('td[14]//text()').extract_first(),\n",
    "                  'ST' : bundesland.xpath('td[15]//text()').extract_first(),\n",
    "                  'SH' : bundesland.xpath('td[16]//text()').extract_first(),\n",
    "                  'TH' : bundesland.xpath('td[17]//text()').extract_first(),\n",
    "                  'Gesamt' : bundesland.xpath('td[18]//text()').extract_first(),\n",
    "               }\n",
    "\n",
    "process = CrawlerProcess({\n",
    "'USER_AGENT': 'Mozilla/4.0 (compatible; MSIE 7.0; Windows NT 5.1)',\n",
    "'FEED_FORMAT': 'csv',\n",
    "'FEED_URI': 'de_zuwachsneu.csv'\n",
    "})\n",
    "\n",
    "#process.crawl(GERdailyZuwachs)\n",
    "#process.start()"
   ]
  }
 ],
 "metadata": {
  "kernelspec": {
   "display_name": "Python 3",
   "language": "python",
   "name": "python3"
  },
  "language_info": {
   "codemirror_mode": {
    "name": "ipython",
    "version": 3
   },
   "file_extension": ".py",
   "mimetype": "text/x-python",
   "name": "python",
   "nbconvert_exporter": "python",
   "pygments_lexer": "ipython3",
   "version": "3.7.7"
  }
 },
 "nbformat": 4,
 "nbformat_minor": 4
}
