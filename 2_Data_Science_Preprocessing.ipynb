{
 "cells": [
  {
   "cell_type": "markdown",
   "metadata": {},
   "source": [
    "## Data Science Preprocessing"
   ]
  },
  {
   "cell_type": "markdown",
   "metadata": {},
   "source": [
    "Dieses Notebook ist einzig dafür vorgesehen, die Daten so weit vorzubereiten, dass sie im Notebook 3 visualisiert und analysiert werden können. Dies umfasst, die Datenbasis zu bereinigen und teilweise auch erste Berechnungsschritte. Auf dies wird jedoch einzeln bei den verschiedenen Zellen eingegangen."
   ]
  },
  {
   "cell_type": "code",
   "execution_count": 1,
   "metadata": {},
   "outputs": [],
   "source": [
    "import warnings\n",
    "warnings.filterwarnings('ignore')\n",
    "import pandas as pd\n",
    "import numpy as np\n",
    "import locale\n",
    "locale.setlocale(locale.LC_ALL, '')\n",
    "from string import ascii_lowercase\n",
    "import datetime as dt\n",
    "from sklearn import linear_model\n",
    "import time\n",
    "import matplotlib.pyplot as plt\n",
    "%matplotlib inline"
   ]
  },
  {
   "cell_type": "markdown",
   "metadata": {},
   "source": [
    "### Preprocessing amerikanische Counties"
   ]
  },
  {
   "cell_type": "markdown",
   "metadata": {},
   "source": [
    "Ziel dieser Zelle ist es die durchschnittlichen Wachstumsraten der Covid-Zahlen in amerikanischen Counties zu berechnen. Dafür wird die von der Non-Profit-Organisation USA Facts bereitgestellte Datenbasis in den ersten Zeilen bereinigt. Die Datenbasis sind die täglich gemeldeten Covid-Fälle jedes Counties. Da es in den Namen der Counties einzelne Duplikate gibt werden sie mit dem Staat, in dem das County sich befindet, in Zusammenhang gebracht. \n",
    "Danach wird ein Dictionary erstellt, in dem die Daten von jedem County in einem eigenen DataFrame abgespeichert werden. \n",
    "Außerdem wird das DataFrame avgwachstum erstellt, in dem die durchschnittlichen Wachstumsraten der Covid-Zahlen der Counties gespeichert werden, dafür wird durch jedes DataFrame des Dictionarys durchiteriert, da für jedes County die durchschnittlichen Werte bestimmt werden müssen.\n",
    "Des Weiteren wird die Spalte Weekday hinzugefügt, bei der die Funktion day_name() genutzt wird, um den Wochentag einzufügen, um in der Analyse zu schauen, ob an bestimmten Wochentagen mehr Fälle gemeldet werden als an anderen."
   ]
  },
  {
   "cell_type": "code",
   "execution_count": 2,
   "metadata": {},
   "outputs": [],
   "source": [
    "counties = pd.read_csv('covid_confirmed_usafacts.csv')\n",
    "counties[\"County Name\"] = counties[\"County Name\"] + \"_\" + counties[\"State\"]\n",
    "\n",
    "counties = counties.drop(['stateFIPS','countyFIPS',\"State\"], axis=1)\n",
    "\n",
    "arraycounties = [counties['County Name'].tolist()]\n",
    "\n",
    "dfState = pd.DataFrame()\n",
    "dflistC = counties['County Name'].tolist()\n",
    "dfState = counties[['County Name']]\n",
    "dfState = dfState.reset_index()\n",
    "dfState = dfState.drop_duplicates()\n",
    "dflistC = list(dict.fromkeys(dflistC))\n",
    "dic = {}\n",
    "\n",
    "for i in dflistC:\n",
    "    dic[i] = pd.DataFrame()\n",
    "avgwachstum = pd.DataFrame(columns=[\"County\",\"AGR\"],index = range(len(dflistC)))\n",
    "\n",
    "i = 0\n",
    "\n",
    "for name, df in dic.items():\n",
    "        dic[name] = counties.loc[(counties['County Name'] == name)]\n",
    "        dic[name] = dic[name].reset_index()\n",
    "        dic[name] = dic[name].T\n",
    "        dic[name] = dic[name].rename(columns={0:'cases'})\n",
    "        dic[name]['County Name'] = name\n",
    "        dic[name] = dic[name].iloc[3:]\n",
    "        dic[name] = dic[name].reset_index()\n",
    "        dic[name] = dic[name].rename(columns={'index': 'date'})\n",
    "        dic[name]['date'] = pd.to_datetime(dic[name]['date'], format='%m/%d/%y')\n",
    "        dic[name] = dic[name].loc[dic[name]['date']< '2020-06-20']\n",
    "        dic[name]['cases'] =  dic[name]['cases'].astype(int) \n",
    "        dic[name]['dailycases'] = dic[name]['cases'].diff()\n",
    "        dic[name]['dailycases'][dic[name]['dailycases'] < 0] = 0\n",
    "        dic[name]['Rate'] = dic[name]['dailycases'].pct_change()\n",
    "        dic[name]['Rate'] = dic[name]['Rate']*100\n",
    "        dic[name]['Rate'] = dic[name]['Rate'].replace([np.inf, -np.inf], 0)\n",
    "        dic[name] = dic[name].fillna(0)\n",
    "        dic[name]['Weekday'] = dic[name]['date'].dt.day_name()\n",
    "        \n",
    "        avgwachstum[\"County\"][i] = name\n",
    "        avgwachstum[\"AGR\"][i] = dic[name]['Rate'].mean()#/len(dic[name].index)\n",
    "        i +=1"
   ]
  },
  {
   "cell_type": "markdown",
   "metadata": {},
   "source": [
    "In den nächsten zwei Zellen wird das DataFrame DFCounty erstellt. Dort werden die Daten der durchschnittlichen Wachstumsraten der Covid-Zahlen mit der Bevölkerungsdichte zusammengebracht. Da die Bevölkerungsdichte leider nicht gefunden werden konnte, musste sie selbst berechnet werden. Dafür werden die Bevölkerungszahlen der letzten Volkszählung (pop) und die Fläche der einzelnen Counties (areacounty) genommen. Diese müssen jeweils einzeln zugeordnet werden, da die jeweiligen Datenbasen verschieden viele Einträge haben, was sich darauf zurückführen lässt, dass zum Beispiel bei der Fläche auch noch die Staaten selbst als Summe aufgeführt sind."
   ]
  },
  {
   "cell_type": "code",
   "execution_count": 3,
   "metadata": {},
   "outputs": [],
   "source": [
    "areacounty = pd.read_excel('LND01.xls')\n",
    "areacounty = areacounty[['Areaname','LND010190D']]\n",
    "areacounty['Areaname'] = areacounty['Areaname'].str.replace(\", \",\" County_\", regex=True)\n",
    "\n",
    "pop = pd.read_csv('covid_county_population_usafacts.csv')\n",
    "pop[\"County Name\"] = pop[\"County Name\"] + \"_\" + pop[\"State\"]"
   ]
  },
  {
   "cell_type": "code",
   "execution_count": 4,
   "metadata": {
    "scrolled": true
   },
   "outputs": [],
   "source": [
    "DFCounty = pd.DataFrame(avgwachstum)\n",
    "DFCounty['Area'] = 0.0\n",
    "DFCounty['Population'] = 0.0\n",
    "\n",
    "for i in range(len(DFCounty)):\n",
    "    DFCounty['Area'][i] = areacounty[\"LND010190D\"].loc[areacounty[\"Areaname\"] == DFCounty['County'][i]]\n",
    "    DFCounty['Population'][i] = pop[\"population\"].loc[pop[\"County Name\"] == DFCounty['County'][i]]\n",
    "\n",
    "DFCounty['Density'] = DFCounty['Population'] / DFCounty['Area'] \n",
    "DFCounty[\"State\"] = DFCounty[\"County\"].str[-2:]\n",
    "DFCounty=DFCounty.replace([np.inf, -np.inf], np.nan)\n",
    "DFCounty = DFCounty.fillna(0)\n",
    "DFCounty = DFCounty[DFCounty['Density'] != 0]\n",
    "DFCounty = DFCounty.fillna(0)"
   ]
  },
  {
   "cell_type": "markdown",
   "metadata": {},
   "source": [
    "### Preprocessing deutsche Landkreise"
   ]
  },
  {
   "cell_type": "markdown",
   "metadata": {},
   "source": [
    "In dieser Zelle wird das DataFrame kreise_zuwachs erstellt, bei dem der tägliche Zuwachs der Covid-Fälle in deutschen Landkreisen berechnet werden. Dafür werden bei der Datenbasis erst noch viele Spalten gelöscht und die Kreise alphabetisch sortiert."
   ]
  },
  {
   "cell_type": "code",
   "execution_count": 5,
   "metadata": {},
   "outputs": [],
   "source": [
    "kreise_zuwachs = pd.read_csv('COVID-19 Cases Germany_1604319250294.csv')\n",
    "kreise_zuwachs.drop(['relative_case_changes','fb_id','cases_per_population','relative_death_changes','bundesland_ags','kreis_ags','kreis_nuts','kreis_name','deaths_per_population','fb_datetime'], axis=1, inplace=True)\n",
    "kreise_zuwachs = kreise_zuwachs.fillna(0)\n",
    "kreise_zuwachs['deaths'] = kreise_zuwachs['deaths'].astype(int)\n",
    "kreise_zuwachs['publication_datetime'] = kreise_zuwachs['publication_datetime'].str[:11]\n",
    "kreise_zuwachs = kreise_zuwachs.sort_values(['location_label','publication_datetime'])\n",
    "kreise_zuwachs['täglicher Wachstum'] = kreise_zuwachs['cases'].pct_change()\n",
    "kreise_zuwachs = kreise_zuwachs.drop(columns = [\"population\",\"source_label\",\"source_website\",\"bundesland_name\"])"
   ]
  },
  {
   "cell_type": "markdown",
   "metadata": {},
   "source": [
    "In dieser Zelle gibt es das gleiche Vorgehen wie in Zeile [2], also wie bei den Counties nur für deutsche Landkreise. Jedoch kommen hier noch die durchschnittlichen Wachstumsraten der Covid-Tode der Landkreise hinzu. Die jeweiligen täglichen Zahlen der Landkreise werden in dem Dictionary d gespeichert."
   ]
  },
  {
   "cell_type": "code",
   "execution_count": 6,
   "metadata": {},
   "outputs": [],
   "source": [
    "arraykreise = kreise_zuwachs['location_label'].tolist()\n",
    "arraykreise = list(dict.fromkeys(arraykreise))  #Entfernt alle Dubletten\n",
    "arraykreise = sorted(arraykreise)\n",
    "dflist = arraykreise\n",
    "d = {} #dict damit können alle erstelleten DataFrames aufgerufen werden\n",
    "\n",
    "for j in dflist:\n",
    "   d[j] = pd.DataFrame()\n",
    "i = 0\n",
    "\n",
    "\n",
    "durchschnittlicheswachstum = pd.DataFrame(columns=[\"Landkreis\",\"AGR\"],index = range(len(arraykreise)))\n",
    "durchschnittlicheswachstumD = pd.DataFrame(columns=[\"Landkreis\",\"AGR\"],index = range(len(arraykreise)))\n",
    "\n",
    "for name, df in d.items():\n",
    "        d[name] = kreise_zuwachs.loc[kreise_zuwachs['location_label'] == name]\n",
    "        d[name]['dailycases'] = d[name]['cases'].diff()\n",
    "        d[name]['dailydeaths'] = d[name]['deaths'].diff()\n",
    "        d[name]['dailycases_per_100k'] = d[name]['cases_per_100k'].diff()\n",
    "        d[name]['dailydeaths_per_100k'] = d[name]['deaths_per_100k'].diff()\n",
    "        d[name]['publication_datetime'] = d[name]['publication_datetime'].astype('datetime64[ns]')\n",
    "        d[name] = d[name].sort_values(['publication_datetime'])\n",
    "        d[name] = d[name].loc[d[name]['publication_datetime']< '2020-06-20']\n",
    "        d[name]['dailycases'][d[name]['dailycases'] < 0] = 0\n",
    "        d[name]['Rate'] = d[name]['dailycases'].pct_change()\n",
    "        d[name]['Rate'] = d[name]['Rate']*100\n",
    "        d[name]['Rate'] = d[name]['Rate'].replace([np.inf, -np.inf], 0)\n",
    "        \n",
    "        d[name]['RateD'] = d[name]['dailydeaths'].pct_change()\n",
    "        d[name]['RateD'] = d[name]['RateD']*100\n",
    "        d[name]['RateD'] = d[name]['RateD'].replace([np.inf, -np.inf], 0)\n",
    "        d[name] = d[name].fillna(0)\n",
    "        d[name] = d[name].reset_index()\n",
    "        \n",
    "        if d[name].empty:\n",
    "            time.sleep(1)\n",
    "        else:\n",
    "            d[name]['Wochentag'] = d[name]['publication_datetime'].dt.day_name()\n",
    "        \n",
    "        durchschnittlicheswachstum[\"Landkreis\"][i] = name\n",
    "        durchschnittlicheswachstum[\"AGR\"][i] = d[name]['Rate'].sum()/len(d[name].index)\n",
    "        \n",
    "        durchschnittlicheswachstumD[\"Landkreis\"][i] = name\n",
    "        durchschnittlicheswachstumD[\"AGR\"][i] = d[name]['RateD'].sum()/len(d[name].index)\n",
    "        i = i + 1"
   ]
  },
  {
   "cell_type": "markdown",
   "metadata": {},
   "source": [
    "In dieser Zelle wird die Bevölkerungsdichte deutscher Landkreise den durchschnittlichen Wachstumsraten der Covid-Fälle zugeordnet. Problematisch hierbei ist, dass es zu Duplikaten kommt, da zum Beispiel Städte wie Würzburg, die auch Landkreise sind, doppelt aufgeführt sind. Dafür wird die erste For-Schleife genutzt, um das Wort Stadt an den \"Landkreis\" mit der höheren Bevölkerungsdichte gehangen, da dies die Stadt ist und nicht ein ländlicher Landkreis."
   ]
  },
  {
   "cell_type": "code",
   "execution_count": 7,
   "metadata": {},
   "outputs": [],
   "source": [
    "dichte = pd.read_excel('A_BevDichte_Kreise.xlsx')\n",
    "dichte = dichte.drop(columns = ['Kennziffer','Thünen-Typ'])\n",
    "dichte = dichte.sort_values(by=['Name'])\n",
    "dichte = dichte.reset_index()\n",
    "dichte = dichte.drop(columns = 'index')\n",
    "\n",
    "#Wird genutzt um die Stadt von dem Landkreis zu trennen\n",
    "name = ' Stadt'\n",
    "\n",
    "for j in range(len(dichte)):\n",
    "    if j == 401:\n",
    "        break\n",
    "    else:\n",
    "        if dichte['Name'][j] == dichte['Name'][j+1]:\n",
    "            if dichte['Bevölkerungsdichte 2014'][j] < dichte['Bevölkerungsdichte 2014'][j+1]:\n",
    "                dichte['Name'][j+1] = dichte['Name'][j+1] + name\n",
    "            else:\n",
    "                dichte['Name'][j] = dichte['Name'][j] + name\n",
    "\n",
    "dichteU = pd.DataFrame(columns= ['Landkreis/Kreis','Bev.D.Ew./km²'])\n",
    "dichteU['Landkreis/Kreis'] = arraykreise\n",
    "dichteU = dichteU.fillna(0)\n",
    "\n",
    "durchschnittlicheswachstum[\"Bev.D.Ew./km²\"] = 0.0\n",
    "\n",
    "for i in range(len(arraykreise)):\n",
    "    durchschnittlicheswachstum['Bev.D.Ew./km²'][i] = dichte['Bevölkerungsdichte 2014'].loc[dichte[\"Name\"] == dichteU['Landkreis/Kreis'][i]]"
   ]
  },
  {
   "cell_type": "markdown",
   "metadata": {},
   "source": [
    "Zuletzt wird das DataFrame compLKfnl erstellt, in dem nun alle Werte, die durchschnittliche Wachstumsrate der Fallzahlen und der Todeszahlen mit der Bevölkerungsdichte zusammengebracht werden. Außerdem werden alle nan Werte, falls es welche geben sollte, durch 0 ausgetauscht. Des Weiteren muss die Spalte mit den Landkreisnamen gelöscht werden, da ansonsten das Clustering in Notebook 3 nicht funktioniert."
   ]
  },
  {
   "cell_type": "code",
   "execution_count": 8,
   "metadata": {},
   "outputs": [],
   "source": [
    "compLK = pd.DataFrame(durchschnittlicheswachstum)\n",
    "compLK['AGR_D'] = durchschnittlicheswachstumD[\"AGR\"]\n",
    "compLK['Bev.D.Ew./km²'] = compLK['Bev.D.Ew./km²'].astype(float)\n",
    "compLK = compLK.fillna(0)\n",
    "compLK = compLK.loc[compLK['Bev.D.Ew./km²'] != 0.0]\n",
    "compLK = compLK.loc[compLK['AGR'] != 0.0]\n",
    "compLK = compLK.loc[compLK['AGR_D'] != 0.0]\n",
    "compLKfnl = compLK.drop(columns =['Landkreis'])\n",
    "compLKfnl = compLKfnl.rename(columns={'Bev.D.Ew./km²':'Dichte'})\n",
    "compLKfnl = compLKfnl.fillna(0)"
   ]
  },
  {
   "cell_type": "markdown",
   "metadata": {},
   "source": [
    "### Preprocessing deutsche Bundesländer"
   ]
  },
  {
   "cell_type": "markdown",
   "metadata": {},
   "source": [
    "In der nächsten Zelle werden die täglichen Covid-Fallzahlen der einzelnen Bundesländer vorbereitet. So zum Beispiel werden in der Datenbasis, sollte es noch keine Fallzahlen geben der Wert als \"—\" dargestellt, für Berechnungen wird dies durch eine 0 ausgetauscht. Des Weiteren werden Tausender durch einen Punkt abgegrenzt und es haben sich teilweise Klammern eingeschlichen. Ziel ist es, dass die Spalte in den Typen int umgeändert werden kann.  \n",
    "Außerdem werden die Daten in ein Trainings- und ein Test-Set aufgeteilt. Sodass das Trainings-Set aus Februar, März, April, Mai und Juni bis zum 19.06 besteht. "
   ]
  },
  {
   "cell_type": "code",
   "execution_count": 9,
   "metadata": {},
   "outputs": [],
   "source": [
    "bundzuwachsraw = pd.read_csv('table-1.csv')\n",
    "bundzuwachsraw.set_index('Datum')\n",
    "bundzuwachsraw = bundzuwachsraw.drop(['KW','Differenz zum Vortag','Bem.','Datum'],1) \n",
    "bundzuwachsraw = bundzuwachsraw.iloc[:-1]\n",
    "bundzuwachsraw = bundzuwachsraw.fillna(0)\n",
    "bundzuwachsraw = bundzuwachsraw.replace('—',0)\n",
    "\n",
    "for column in bundzuwachsraw:\n",
    "    bundzuwachsraw[column] = bundzuwachsraw[column].astype(str)\n",
    "    bundzuwachsraw[column] = bundzuwachsraw[column].str.replace('.','')\n",
    "    for c in ascii_lowercase:\n",
    "        bundzuwachsraw[column] = bundzuwachsraw[column].str.replace(c,'')\n",
    "    bundzuwachsraw[column] = bundzuwachsraw[column].str.replace(')','')\n",
    "    bundzuwachsraw[column] = bundzuwachsraw[column].str.replace('(','')\n",
    "    bundzuwachsraw[column] = bundzuwachsraw[column].astype(int)\n",
    "    bundzuwachsraw[column] = bundzuwachsraw[column].diff()\n",
    "\n",
    "bundzuwachsraw = bundzuwachsraw.fillna(0)\n",
    "bundzuwachsraw['Date'] = pd.date_range(start='24/2/2020', periods=len(bundzuwachsraw), freq='D')        \n",
    "bundzuwachsraw = bundzuwachsraw.set_index('Date')\n",
    "\n",
    "bundzuwachsraw_1 = bundzuwachsraw.iloc[:118] # Februar Tage + März + April + Mai + Juni bis zum 19\n",
    "bundzuwachsraw_2 = bundzuwachsraw.iloc[118:]"
   ]
  },
  {
   "cell_type": "markdown",
   "metadata": {},
   "source": [
    "Nun wird das Datum in einen Integer Wert mit dt.datetime.toordinal umgewandelt, um in der nächsten Zelle die lineare Regression anzuwenden. "
   ]
  },
  {
   "cell_type": "code",
   "execution_count": 10,
   "metadata": {},
   "outputs": [],
   "source": [
    "bundzuwachsraw_1['date'] = bundzuwachsraw_1.index\n",
    "bundzuwachsraw_1['datef'] = pd.to_datetime(bundzuwachsraw_1['date'])\n",
    "bundzuwachsraw_1['datef']=bundzuwachsraw_1['datef'].map(dt.datetime.toordinal)\n",
    "bundzuwachsraw_2['date'] = bundzuwachsraw_2.index\n",
    "bundzuwachsraw_2['datef'] = pd.to_datetime(bundzuwachsraw_2['date'])\n",
    "bundzuwachsraw_2['datef']=bundzuwachsraw_2['datef'].map(dt.datetime.toordinal)"
   ]
  },
  {
   "cell_type": "markdown",
   "metadata": {},
   "source": [
    "In dieser Zelle , werden die vorbereiteten Trainingsdaten der Bundesländer in ein Model der linearen Regression gefittet. Und dann für den Testzeitraum Prognosen erstellt. \n",
    "Nachdem für jedes Bundesland Prognosen erstellt worden sind, werden nun die durchschnittlichen täglichen Wachstumsraten der Fallzahlen für jedes Bundesland berechnet und in dem DataFrame durchwachstumfnl gespeichert."
   ]
  },
  {
   "cell_type": "code",
   "execution_count": 11,
   "metadata": {},
   "outputs": [],
   "source": [
    "bundzuwachspred = pd.DataFrame(bundzuwachsraw_2['date'])\n",
    "\n",
    "for column in bundzuwachsraw_1:\n",
    "    y = bundzuwachsraw_1[column].to_numpy()\n",
    "    x = bundzuwachsraw_1['datef'].to_numpy()\n",
    "    xpred = bundzuwachsraw_2['datef'].to_numpy()\n",
    "    ypred = bundzuwachsraw_2[column].to_numpy()\n",
    "    x = x.reshape(-1, 1)\n",
    "    y = y.reshape(-1, 1)\n",
    "    xpred = xpred.reshape(-1, 1)\n",
    "    regr = linear_model.LinearRegression()\n",
    "    regr.fit(x, y)\n",
    "    predic = regr.predict(xpred)\n",
    "    bundzuwachspred[column] = predic\n",
    "bundzuwachspred = bundzuwachspred.drop(columns = ['date','datef','Gesamt'])\n",
    "bundchangepred = bundzuwachspred.pct_change()\n",
    "bundchangepred = bundchangepred*100\n",
    "bundchangepred = bundchangepred.fillna(0)\n",
    "bundchangepred = bundchangepred.replace([np.inf, -np.inf], 0)\n",
    "bundchangepred = bundchangepred.drop(bundchangepred.index[0])\n",
    "\n",
    "durchschnittlichwachstum = bundchangepred.mean()\n",
    "durchwachstumfnl = pd.DataFrame({'Bundesland':durchschnittlichwachstum.index,'AGR':durchschnittlichwachstum.values})\n",
    "liste = ['Baden-Württemberg','Bayern','Berlin','Brandenburg','Bremen','Hamburg','Hessen','Mecklenburg-Vorpommern','Niedersachsen','Nordrhein-Westfalen','Rheinland-Pfalz','Saarland','Sachsen','Sachsen-Anhalt','Schleswig-Holstein','Thüringen']\n",
    "\n",
    "for i, row in durchwachstumfnl.iterrows():\n",
    "        durchwachstumfnl.at[i,'Bundesland'] = liste[i]"
   ]
  }
 ],
 "metadata": {
  "kernelspec": {
   "display_name": "Python 3",
   "language": "python",
   "name": "python3"
  },
  "language_info": {
   "codemirror_mode": {
    "name": "ipython",
    "version": 3
   },
   "file_extension": ".py",
   "mimetype": "text/x-python",
   "name": "python",
   "nbconvert_exporter": "python",
   "pygments_lexer": "ipython3",
   "version": "3.7.7"
  }
 },
 "nbformat": 4,
 "nbformat_minor": 4
}
