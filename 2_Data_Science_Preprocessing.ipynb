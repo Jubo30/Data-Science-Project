{
 "cells": [
  {
   "cell_type": "code",
   "execution_count": 1,
   "metadata": {},
   "outputs": [],
   "source": [
    "import warnings\n",
    "warnings.filterwarnings('ignore')\n",
    "import pandas as pd\n",
    "import numpy as np\n",
    "import locale\n",
    "locale.setlocale(locale.LC_ALL, '')\n",
    "from string import ascii_lowercase\n",
    "import datetime as dt\n",
    "from sklearn import linear_model"
   ]
  },
  {
   "cell_type": "markdown",
   "metadata": {},
   "source": [
    "Hier werden die Covid_Fälle amerikanischer Counties vorbereitet. Jedes County bekommt ein eigenes DF und die DFs werden in einem Dictionary gespeichert. Erstellung der Liste avgwachstum, in der die durchschnittlichen Wachstumsraten der Covid-Zahlen der Counties gespeichert werden."
   ]
  },
  {
   "cell_type": "code",
   "execution_count": 2,
   "metadata": {},
   "outputs": [],
   "source": [
    "counties = pd.read_csv('covid_confirmed_usafacts.csv')\n",
    "\n",
    "counties = counties.drop_duplicates(subset =[\"County Name\"])\n",
    "counties = counties.drop(['stateFIPS','countyFIPS'], axis=1)\n",
    "arraycounties = [counties['County Name'].tolist()] + [counties['State'].tolist()]\n",
    "\n",
    "dfState = pd.DataFrame()\n",
    "dflistC = counties['County Name'].tolist()\n",
    "dfState = counties[['County Name','State']]\n",
    "dfState = dfState.reset_index()\n",
    "dfState = dfState.drop_duplicates(subset=['County Name'])\n",
    "dflistC = list(dict.fromkeys(dflistC))\n",
    "dic = {}\n",
    "\n",
    "for i in dflistC:\n",
    "    dic[i] = pd.DataFrame()\n",
    "\n",
    "k = 0\n",
    "avgwachstum = []\n",
    "\n",
    "for name, df in dic.items():\n",
    "        dic[name] = counties.loc[(counties['County Name'] == arraycounties[0][k]) & (counties['State'] == arraycounties[1][k])]\n",
    "        dic[name] = dic[name].reset_index()\n",
    "        dic[name] = dic[name].T\n",
    "        dic[name] = dic[name].rename(columns={0:'cases'})\n",
    "        dic[name]['County Name'] = arraycounties[0][k]\n",
    "        dic[name] = dic[name].iloc[3:]\n",
    "        dic[name] = dic[name].reset_index()\n",
    "        dic[name] = dic[name].rename(columns={'index': 'date'})\n",
    "        dic[name]['date'] = pd.to_datetime(dic[name]['date'], format='%m/%d/%y')\n",
    "        dic[name] = dic[name].loc[dic[name]['date']< '2020-06-20']\n",
    "        dic[name]['cases'] =  dic[name]['cases'].astype(int) \n",
    "        dic[name]['dailycases'] = dic[name]['cases'].diff()\n",
    "        dic[name]['dailycases'][dic[name]['dailycases'] < 0] = 0\n",
    "        dic[name]['Rate'] = dic[name]['cases'].pct_change()\n",
    "        dic[name]['Rate'] = dic[name]['Rate']*100\n",
    "        dic[name]['Rate'] = dic[name]['Rate'].replace([np.inf, -np.inf], 0)\n",
    "        dic[name] = dic[name].fillna(0)\n",
    "        avgwachstum.append(dic[name]['Rate'].sum()/len(dic[name].index))\n",
    "        k = k + 1"
   ]
  },
  {
   "cell_type": "markdown",
   "metadata": {},
   "source": [
    "Vorbereitung der Daten zu den Landflächen und den Einwohnerzahlen amerikanischer Counties."
   ]
  },
  {
   "cell_type": "code",
   "execution_count": 3,
   "metadata": {},
   "outputs": [],
   "source": [
    "areacounty = pd.read_excel('LND01.xls')\n",
    "areacounty = areacounty[['Areaname','LND010190D']]\n",
    "areacounty['Areaname'] = areacounty['Areaname'].str[:-4]\n",
    "areacounty['Areaname'] = areacounty['Areaname'] + ' County'\n",
    "areacounty = areacounty.drop_duplicates(subset =[\"Areaname\"])\n",
    "areacounty = areacounty.reset_index()\n",
    "\n",
    "pop = pd.read_csv('covid_county_population_usafacts.csv')"
   ]
  },
  {
   "cell_type": "markdown",
   "metadata": {},
   "source": [
    "Vorbereitung DF \"DFCounty\", dort laufen die preprocessed Daten zusammen."
   ]
  },
  {
   "cell_type": "code",
   "execution_count": 4,
   "metadata": {},
   "outputs": [],
   "source": [
    "t = {'County':dflistC,'AGR':avgwachstum}\n",
    "DFCounty = pd.DataFrame(t)\n",
    "DFCounty['State'] = dfState['State']\n",
    "DFCounty['Area'] = 0.0"
   ]
  },
  {
   "cell_type": "markdown",
   "metadata": {},
   "source": [
    "Berechnung der County-Bevölkerungsdichte, da diese nicht abgreifbar war."
   ]
  },
  {
   "cell_type": "code",
   "execution_count": 5,
   "metadata": {
    "scrolled": true
   },
   "outputs": [],
   "source": [
    "#Jedem County wird die passende Fläche zugeordnet\n",
    "for i in range(len(areacounty)):\n",
    "    for j in range(len(dflistC)):\n",
    "        if dflistC[j] == areacounty['Areaname'][i]:\n",
    "            DFCounty['Area'][j] = areacounty['LND010190D'][i]\n",
    "\n",
    "DFCounty['Area'] = DFCounty['Area'] * 2.59  #Von Meilen auf Kilometer\n",
    "DFCounty['Population'] = 0\n",
    "\n",
    "#Jedem County wird die passende Bevölkerungszahl zugeordnet\n",
    "for i in range(len(pop)):\n",
    "    for j in range(len(dflistC)):\n",
    "        if dflistC[j] == pop['County Name'][i]:\n",
    "            DFCounty['Population'][j] = pop['population'][i]\n",
    "\n",
    "#Aus Fläche und Bevölkerung wird Bevölkerungsdichte berechnet, da es diese werde nicht einfach so zum Abruf gab\n",
    "DFCounty['Density'] = DFCounty['Population'] / DFCounty['Area'] \n",
    "DFCounty=DFCounty.replace([np.inf, -np.inf], np.nan)\n",
    "DFCounty = DFCounty.fillna(0)\n",
    "DFCounty = DFCounty[DFCounty['Density'] != 0]\n",
    "DFCounty = DFCounty[DFCounty['AGR'] != 0]\n",
    "DFCounty = DFCounty.fillna(0)"
   ]
  },
  {
   "cell_type": "markdown",
   "metadata": {},
   "source": [
    "Covid-Fälle deutscher Landkreise werden vobereitet. und die Zeile täglicher Wachstum wird hinzugefügt. Gespeichert wird dies in dem DF \"kreise_zuwachs\"."
   ]
  },
  {
   "cell_type": "code",
   "execution_count": 6,
   "metadata": {},
   "outputs": [],
   "source": [
    "kreise_zuwachs = pd.read_csv('COVID-19 Cases Germany_1604319250294.csv')\n",
    "kreise_zuwachs.drop(['relative_case_changes','fb_id','cases_per_population','relative_death_changes','bundesland_ags','kreis_ags','kreis_nuts','kreis_name','deaths_per_population','fb_datetime'], axis=1, inplace=True)\n",
    "kreise_zuwachs = kreise_zuwachs.fillna(0)\n",
    "kreise_zuwachs['deaths'] = kreise_zuwachs['deaths'].astype(int)\n",
    "kreise_zuwachs['publication_datetime'] = kreise_zuwachs['publication_datetime'].str[:11]\n",
    "kreise_zuwachs = kreise_zuwachs.sort_values(['location_label','publication_datetime'])\n",
    "kreise_zuwachs['täglicher Wachstum'] = kreise_zuwachs['cases'].pct_change()"
   ]
  },
  {
   "cell_type": "markdown",
   "metadata": {},
   "source": [
    "Das selbe wie bei den Counties wird hier mit den Landkreisen gemacht, jedoch wird eine weitere Variable, die Tode vorbereitet."
   ]
  },
  {
   "cell_type": "code",
   "execution_count": 7,
   "metadata": {},
   "outputs": [],
   "source": [
    "arraykreise = kreise_zuwachs['location_label'].tolist()\n",
    "arraykreise = list(dict.fromkeys(arraykreise))  #Entfernt alle Dubletten\n",
    "#arraykreise = ['Mettmann','Main-Taunus-Kreis','Offenbach','Esslingen','Recklinghausen','Altmarkkreis Salzwedel','Prignitz','Ostprignitz-Ruppin','Uckermark','Stendal']\n",
    "arraykreise = sorted(arraykreise)\n",
    "dflist = arraykreise\n",
    "d = {} #dict damit können alle erstelleten DataFrames aufgerufen werden\n",
    "\n",
    "for j in dflist:\n",
    "   d[j] = pd.DataFrame()\n",
    "i = 0\n",
    "\n",
    "durchschnittlicheswachstum = []\n",
    "durchschnittlicheswachstumD = []\n",
    "\n",
    "for name, df in d.items():\n",
    "        d[name] = kreise_zuwachs[kreise_zuwachs['location_label'] == arraykreise[i]]\n",
    "        d[name] = d[name].drop(columns=['population','bundesland_name'])\n",
    "        d[name]['dailycases'] = d[name]['cases_per_100k'].diff()\n",
    "        d[name]['dailydeaths'] = d[name]['deaths_per_100k'].diff()\n",
    "        d[name]['publication_datetime'] = pd.to_datetime(d[name]['publication_datetime'])\n",
    "        d[name] = d[name].sort_values(['publication_datetime'])\n",
    "        d[name] = d[name].loc[d[name]['publication_datetime']< '2020-06-20']\n",
    "        d[name]['dailycases'][d[name]['dailycases'] < 0] = 0\n",
    "        d[name]['Rate'] = d[name]['cases'].pct_change()\n",
    "        d[name]['Rate'] = d[name]['Rate']*100\n",
    "        d[name]['Rate'] = d[name]['Rate'].replace([np.inf, -np.inf], 0)\n",
    "        \n",
    "        d[name]['RateD'] = d[name]['deaths'].pct_change()\n",
    "        d[name]['RateD'] = d[name]['RateD']*100\n",
    "        d[name]['RateD'] = d[name]['RateD'].replace([np.inf, -np.inf], 0)\n",
    "        d[name] = d[name].fillna(0)\n",
    "        d[name] = d[name].reset_index()\n",
    "        \n",
    "        #10 DFs sind vorhanden nun muss durchschnittliche Wachstumsrate berechnet werden\n",
    "        durchschnittlicheswachstum.append(d[name]['Rate'].sum()/len(d[name].index))\n",
    "        durchschnittlicheswachstumD.append(d[name]['RateD'].sum()/len(d[name].index))\n",
    "        i = i + 1"
   ]
  },
  {
   "cell_type": "markdown",
   "metadata": {},
   "source": [
    "Weitere Bearbeitung einzelner Landkreise und Counties, wie der HSK oder Albany County. Diese DFs lassen sich über das Dictionary sehr einfach über d[Landkreis] aufrufen."
   ]
  },
  {
   "cell_type": "code",
   "execution_count": 8,
   "metadata": {},
   "outputs": [],
   "source": [
    "d['Hochsauerlandkreis'].loc[0,'dailycases'] = d['Hochsauerlandkreis'].loc[0, 'cases_per_100k']\n",
    "d['Hochsauerlandkreis']['kumcases'] = d['Hochsauerlandkreis']['dailycases'].cumsum()\n",
    "\n",
    "d['Hochsauerlandkreis']['dailydeaths'] = d['Hochsauerlandkreis']['deaths_per_100k'].diff()\n",
    "d['Hochsauerlandkreis']['dailydeaths'][d['Hochsauerlandkreis']['dailydeaths'] < 0] = 0\n",
    "d['Hochsauerlandkreis'].loc[0,'dailydeaths'] = d['Hochsauerlandkreis'].loc[0, 'deaths']\n",
    "d['Hochsauerlandkreis']['kumdeaths'] = d['Hochsauerlandkreis']['dailydeaths'].cumsum()"
   ]
  },
  {
   "cell_type": "code",
   "execution_count": 9,
   "metadata": {},
   "outputs": [],
   "source": [
    "d['Essen'].loc[0,'dailycases'] = d['Essen'].loc[0, 'cases_per_100k']\n",
    "d['Essen']['kumcases'] = d['Essen']['dailycases'].cumsum()\n",
    "\n",
    "d['Essen']['dailydeaths'] = d['Essen']['deaths_per_100k'].diff()\n",
    "d['Essen']['dailydeaths'][d['Essen']['dailydeaths'] < 0] = 0\n",
    "d['Essen'].loc[0,'dailydeaths'] = d['Essen'].loc[0, 'deaths_per_100k']\n",
    "d['Essen']['kumdeaths'] = d['Essen']['dailydeaths'].cumsum()"
   ]
  },
  {
   "cell_type": "code",
   "execution_count": 10,
   "metadata": {},
   "outputs": [],
   "source": [
    "d['Hochsauerlandkreis']['Wochentag'] = d['Hochsauerlandkreis']['publication_datetime'].dt.day_name()\n",
    "dic['Albany County']['Weekday'] = dic['Albany County']['date'].dt.day_name()\n",
    "d['Essen']['Wochentag'] = d['Essen']['publication_datetime'].dt.day_name()"
   ]
  },
  {
   "cell_type": "markdown",
   "metadata": {},
   "source": [
    "Vorbereitung der Daten zu den Bevölkerungsdichten deutscher Landkreise."
   ]
  },
  {
   "cell_type": "code",
   "execution_count": 11,
   "metadata": {},
   "outputs": [],
   "source": [
    "dichte = pd.read_excel('A_BevDichte_Kreise.xlsx')\n",
    "dichte = dichte.drop(columns = ['Kennziffer','Thünen-Typ'])\n",
    "dichte = dichte.sort_values(by=['Name'])\n",
    "dichte = dichte.reset_index()\n",
    "dichte = dichte.drop(columns = 'index')\n",
    "\n",
    "#Wird genutzt um die Stadt von dem Landkreis zu trennen\n",
    "name = ' Stadt'\n",
    "\n",
    "for j in range(len(dichte)):\n",
    "    if j == 401:\n",
    "        break\n",
    "    else:\n",
    "        if dichte['Name'][j] == dichte['Name'][j+1]:\n",
    "            if dichte['Bevölkerungsdichte 2014'][j] > dichte['Bevölkerungsdichte 2014'][j+1]:\n",
    "                dichte['Name'][j+1] = dichte['Name'][j+1] + name\n",
    "            else:\n",
    "                dichte['Name'][j] = dichte['Name'][j] + name\n",
    "\n",
    "dichteU = pd.DataFrame(columns= ['Landkreis/Kreis','Bev.D.Ew./km²'])\n",
    "dichteU['Landkreis/Kreis'] = arraykreise\n",
    "dichteU = dichteU.fillna(0)\n",
    "\n",
    "for i in range(len(dichte)):\n",
    "    for j in range(len(arraykreise)):\n",
    "        if arraykreise[j] == dichte['Name'][i]:\n",
    "            dichteU['Bev.D.Ew./km²'][j] = dichte['Bevölkerungsdichte 2014'][i]"
   ]
  },
  {
   "cell_type": "markdown",
   "metadata": {},
   "source": [
    "Bevölkerungsdichte wird den durchschnittlichen Wachstumsraten der Coronainfektionen von den Landkreisen zugeordnet."
   ]
  },
  {
   "cell_type": "code",
   "execution_count": 12,
   "metadata": {},
   "outputs": [],
   "source": [
    "t = {'Landkreise/Kreis':arraykreise,'AGR':durchschnittlicheswachstum}\n",
    "compLK = pd.DataFrame(t) #compLK = Vergleich der Landkreise von Wachstum und Bevölkerungsdichte\n",
    "compLK['AGR_D'] = durchschnittlicheswachstumD\n",
    "compLK['Bev.D.Ew./km²'] = dichteU['Bev.D.Ew./km²'].astype(float)\n",
    "compLK = compLK.fillna(0)\n",
    "compLK = compLK.loc[compLK['Bev.D.Ew./km²'] != 0.0]\n",
    "compLK = compLK.loc[compLK['AGR'] != 0.0]\n",
    "compLK = compLK.loc[compLK['AGR_D'] != 0.0]\n",
    "#Sonst geht Clustering nicht\n",
    "compLKfnl = compLK.drop(columns =['Landkreise/Kreis'])\n",
    "compLKfnl = compLKfnl.rename(columns={'Bev.D.Ew./km²':'Dichte'})\n",
    "compLKfnl = compLKfnl.fillna(0)"
   ]
  },
  {
   "cell_type": "markdown",
   "metadata": {},
   "source": [
    "Vorbereitung der töglichen Covid-Zahlen für die 16 deutschen Bundesländer in die DF \"bundzuwachsraw\"."
   ]
  },
  {
   "cell_type": "code",
   "execution_count": 13,
   "metadata": {},
   "outputs": [],
   "source": [
    "bundzuwachsraw = pd.read_csv('table-1.csv')\n",
    "bundzuwachsraw.set_index('Datum')\n",
    "bundzuwachsraw = bundzuwachsraw.drop(['KW','Differenz zum Vortag','Bem.','Datum'],1) \n",
    "bundzuwachsraw = bundzuwachsraw.iloc[:-1]\n",
    "bundzuwachsraw = bundzuwachsraw.fillna(0)\n",
    "bundzuwachsraw = bundzuwachsraw.replace('—',0)\n",
    "\n",
    "for column in bundzuwachsraw:\n",
    "    bundzuwachsraw[column] = bundzuwachsraw[column].astype(str)\n",
    "    bundzuwachsraw[column] = bundzuwachsraw[column].str.replace('.','')\n",
    "    for c in ascii_lowercase:\n",
    "        bundzuwachsraw[column] = bundzuwachsraw[column].str.replace(c,'')\n",
    "    bundzuwachsraw[column] = bundzuwachsraw[column].str.replace(')','')\n",
    "    bundzuwachsraw[column] = bundzuwachsraw[column].str.replace('(','')\n",
    "    bundzuwachsraw[column] = bundzuwachsraw[column].astype(int)    \n",
    "\n",
    "bundzuwachs = bundzuwachsraw.diff()\n",
    "bundzuwachs.iloc[0] = bundzuwachsraw.iloc[0]\n",
    "bundzuwachsraw['Date'] = pd.date_range(start='24/2/2020', periods=len(bundzuwachsraw), freq='D')        \n",
    "bundzuwachs['Date'] = pd.date_range(start='24/2/2020', periods=len(bundzuwachsraw), freq='D')\n",
    "bundzuwachsraw = bundzuwachsraw.set_index('Date')\n",
    "bundzuwachs = bundzuwachs.set_index('Date')"
   ]
  },
  {
   "cell_type": "markdown",
   "metadata": {},
   "source": [
    "Erstellung der DF \"bundchange\", in der die tägliche Veränderung festgehalten wird."
   ]
  },
  {
   "cell_type": "code",
   "execution_count": 14,
   "metadata": {},
   "outputs": [],
   "source": [
    "bundchange = bundzuwachsraw.pct_change()\n",
    "bundchange = bundchange*100\n",
    "bundchange = bundchange.fillna(0)\n",
    "bundchange = bundchange.replace([np.inf, -np.inf], 0) "
   ]
  },
  {
   "cell_type": "markdown",
   "metadata": {},
   "source": [
    "Aufsplittung der Daten zu den Bundesländern, um mit ihnen Prognosen zu erstellen."
   ]
  },
  {
   "cell_type": "code",
   "execution_count": 15,
   "metadata": {},
   "outputs": [],
   "source": [
    "bundzuwachsraw_1 = bundzuwachsraw.iloc[:118] # Februar Tage + März + April + Mai + Juni bis zum 19\n",
    "bundzuwachsraw_2 = bundzuwachsraw.iloc[118:]\n",
    "bundzuwachs_1 = bundzuwachs.iloc[:118]\n",
    "bundzuwachs_2 = bundzuwachs.iloc[118:]\n",
    "bundchange_1 = bundchange.iloc[:118]\n",
    "bundchange_2 = bundchange.iloc[118:]"
   ]
  },
  {
   "cell_type": "code",
   "execution_count": 16,
   "metadata": {},
   "outputs": [],
   "source": [
    "bundzuwachsraw_1['date'] = bundzuwachsraw_1.index\n",
    "bundzuwachsraw_1['datef'] = pd.to_datetime(bundzuwachsraw_1['date'])\n",
    "bundzuwachsraw_1['datef']=bundzuwachsraw_1['datef'].map(dt.datetime.toordinal)\n",
    "bundzuwachsraw_2['date'] = bundzuwachsraw_2.index\n",
    "bundzuwachsraw_2['datef'] = pd.to_datetime(bundzuwachsraw_2['date'])\n",
    "bundzuwachsraw_2['datef']=bundzuwachsraw_2['datef'].map(dt.datetime.toordinal)"
   ]
  },
  {
   "cell_type": "markdown",
   "metadata": {},
   "source": [
    "Prognoseerstellung für die Bundesländer, mit den zuvor vorbereiteten Daten. In \"durchwachstumfnl\" sind nun die Prognostizierten Werte enthalten."
   ]
  },
  {
   "cell_type": "code",
   "execution_count": 17,
   "metadata": {},
   "outputs": [],
   "source": [
    "bundzuwachspred = pd.DataFrame(bundzuwachsraw_2['date'])\n",
    "column = 'BY'\n",
    "\n",
    "for column in bundzuwachsraw_1:\n",
    "    y = bundzuwachsraw_1[column].to_numpy()\n",
    "    x = bundzuwachsraw_1['datef'].to_numpy()\n",
    "    xpred = bundzuwachsraw_2['datef'].to_numpy()\n",
    "    ypred = bundzuwachsraw_2[column].to_numpy()\n",
    "    x = x.reshape(-1, 1)\n",
    "    y = y.reshape(-1, 1)\n",
    "    xpred = xpred.reshape(-1, 1)\n",
    "    regr = linear_model.LinearRegression()\n",
    "    regr.fit(x, y)\n",
    "    predic = regr.predict(xpred)\n",
    "    bundzuwachspred[column] = predic\n",
    "bundzuwachspred = bundzuwachspred.drop(columns = ['date','datef','Gesamt'])\n",
    "bundchangepred = bundzuwachspred.pct_change()\n",
    "bundchangepred = bundchangepred*100\n",
    "bundchangepred = bundchangepred.fillna(0)\n",
    "bundchangepred = bundchangepred.replace([np.inf, -np.inf], 0)\n",
    "bundchangepred = bundchangepred.drop(bundchangepred.index[0])\n",
    "\n",
    "durchschnittlichwachstum = bundchangepred.sum()/len(bundchange_2.index)\n",
    "durchwachstumfnl = pd.DataFrame({'Bundesland':durchschnittlichwachstum.index,'AGR':durchschnittlichwachstum.values})\n",
    "liste = ['Baden-Württemberg','Bayern','Berlin','Brandenburg','Bremen','Hamburg','Hessen','Mecklenburg-Vorpommern','Niedersachsen','Nordrhein-Westfalen','Rheinland-Pfalz','Saarland','Sachsen','Sachsen-Anhalt','Schleswig-Holstein','Thüringen']\n",
    "\n",
    "for i, row in durchwachstumfnl.iterrows():\n",
    "        durchwachstumfnl.at[i,'Bundesland'] = liste[i]"
   ]
  }
 ],
 "metadata": {
  "kernelspec": {
   "display_name": "Python 3",
   "language": "python",
   "name": "python3"
  },
  "language_info": {
   "codemirror_mode": {
    "name": "ipython",
    "version": 3
   },
   "file_extension": ".py",
   "mimetype": "text/x-python",
   "name": "python",
   "nbconvert_exporter": "python",
   "pygments_lexer": "ipython3",
   "version": "3.7.7"
  }
 },
 "nbformat": 4,
 "nbformat_minor": 4
}
